{
 "cells": [
  {
   "cell_type": "markdown",
   "metadata": {
    "id": "01ljva9pTjJY"
   },
   "source": [
    "#Task: Classify images of dogs and cats\n"
   ]
  },
  {
   "cell_type": "code",
   "execution_count": 171,
   "metadata": {
    "colab": {
     "base_uri": "https://localhost:8080/"
    },
    "executionInfo": {
     "elapsed": 3070,
     "status": "ok",
     "timestamp": 1680683828734,
     "user": {
      "displayName": "Đạt Phi Quang",
      "userId": "12812422041134669589"
     },
     "user_tz": -420
    },
    "id": "_V_1KfVJUmVS",
    "outputId": "cca8cfcb-bc52-4878-e158-c53ace7d2610"
   },
   "outputs": [
    {
     "name": "stdout",
     "output_type": "stream",
     "text": [
      "Drive already mounted at /content/drive; to attempt to forcibly remount, call drive.mount(\"/content/drive\", force_remount=True).\n"
     ]
    }
   ],
   "source": [
    "from google.colab import drive\n",
    "drive.mount('/content/drive')"
   ]
  },
  {
   "cell_type": "code",
   "execution_count": 172,
   "metadata": {
    "executionInfo": {
     "elapsed": 13,
     "status": "ok",
     "timestamp": 1680683828735,
     "user": {
      "displayName": "Đạt Phi Quang",
      "userId": "12812422041134669589"
     },
     "user_tz": -420
    },
    "id": "LYCwuBF2U9al"
   },
   "outputs": [],
   "source": [
    "import os\n",
    "import cv2 as cv\n",
    "from google.colab.patches import cv2_imshow\n",
    "import numpy as np\n",
    "from numpy.linalg import norm\n",
    "from scipy.spatial import distance\n",
    "from scipy import ndimage, spatial\n",
    "from sklearn.neighbors import KNeighborsClassifier\n",
    "from PIL import Image\n",
    "from skimage.feature import hog\n",
    "from skimage import feature"
   ]
  },
  {
   "cell_type": "code",
   "execution_count": 173,
   "metadata": {
    "executionInfo": {
     "elapsed": 12,
     "status": "ok",
     "timestamp": 1680683828736,
     "user": {
      "displayName": "Đạt Phi Quang",
      "userId": "12812422041134669589"
     },
     "user_tz": -420
    },
    "id": "htzZ-zboTrEd"
   },
   "outputs": [],
   "source": [
    "def TinhHist(pathfilename):\n",
    "  img = cv.imread(pathfilename,0)\n",
    "  hist = cv.calcHist([img],[0],None,\n",
    "  [256],[0,256])\n",
    "  size = img.shape[0]*img.shape[1]\n",
    "  hist = hist / size\n",
    "  return hist.flatten()"
   ]
  },
  {
   "cell_type": "code",
   "execution_count": 174,
   "metadata": {
    "executionInfo": {
     "elapsed": 11,
     "status": "ok",
     "timestamp": 1680683828736,
     "user": {
      "displayName": "Đạt Phi Quang",
      "userId": "12812422041134669589"
     },
     "user_tz": -420
    },
    "id": "dSSj5qKRbA_A"
   },
   "outputs": [],
   "source": [
    "def TinhHOG(pathfilename):\n",
    "  img = cv.imread(pathfilename,0)\n",
    "  img =cv.resize(img, (64, 128))\n",
    "  (hog, hog_image) = feature.hog(img, orientations=9, \n",
    "                    pixels_per_cell=(8, 8), cells_per_block=(2, 2), \n",
    "                    block_norm='L2-Hys', visualize=True, transform_sqrt=True)\n",
    "  return hog.flatten()"
   ]
  },
  {
   "cell_type": "code",
   "execution_count": 175,
   "metadata": {
    "executionInfo": {
     "elapsed": 10,
     "status": "ok",
     "timestamp": 1680683828736,
     "user": {
      "displayName": "Đạt Phi Quang",
      "userId": "12812422041134669589"
     },
     "user_tz": -420
    },
    "id": "a5eHtsQHUK-b"
   },
   "outputs": [],
   "source": [
    "dir_monhoc = '/content/drive/MyDrive/CS231.N22.KHCL/Baitap/Baitap4/Dataset/Pedestrian'\n",
    "dir_train = os.path.join(dir_monhoc, \"train\")\n",
    "dir_test = os.path.join(dir_monhoc, \"test\") "
   ]
  },
  {
   "cell_type": "code",
   "execution_count": 176,
   "metadata": {
    "executionInfo": {
     "elapsed": 10,
     "status": "ok",
     "timestamp": 1680683828736,
     "user": {
      "displayName": "Đạt Phi Quang",
      "userId": "12812422041134669589"
     },
     "user_tz": -420
    },
    "id": "EhjAA5RQUKFs"
   },
   "outputs": [],
   "source": [
    "def ReadData(path_to_files, opt=0):\n",
    "  labels_train = []\n",
    "  features_train = []\n",
    "\n",
    "  labels_test = []\n",
    "  features_test = []\n",
    "\n",
    "  for dir_name in os.listdir(path_to_files):\n",
    "    label = dir_name\n",
    "    dir_class= os.path.join(path_to_files,dir_name)\n",
    "    i = 0\n",
    "    for file_name in os.listdir(dir_class):\n",
    "      \n",
    "      path_filename = os.path.join(dir_class, file_name)\n",
    "      if opt==0: \n",
    "        feat = TinhHist(path_filename)\n",
    "      else:\n",
    "        feat = TinhHOG(path_filename)\n",
    "      if i<14:\n",
    "        features_train.append(feat)\n",
    "        labels_train.append(label)\n",
    "      else:\n",
    "        features_test.append(feat)\n",
    "        labels_test.append(label)\n",
    "      i = i+1\n",
    "\n",
    "  return features_train, labels_train, features_test, labels_test"
   ]
  },
  {
   "cell_type": "code",
   "execution_count": 177,
   "metadata": {
    "executionInfo": {
     "elapsed": 10,
     "status": "ok",
     "timestamp": 1680683828737,
     "user": {
      "displayName": "Đạt Phi Quang",
      "userId": "12812422041134669589"
     },
     "user_tz": -420
    },
    "id": "4pV-lmbsbcTs"
   },
   "outputs": [],
   "source": [
    "path_data = '/content/drive/MyDrive/CS231.N22.KHCL/Baitap/Baitap4/Dataset/Pedestrian'\n",
    "features_train, labels_train, features_test, labels_test= ReadData(path_data)"
   ]
  },
  {
   "cell_type": "code",
   "execution_count": 178,
   "metadata": {
    "executionInfo": {
     "elapsed": 9,
     "status": "ok",
     "timestamp": 1680683828737,
     "user": {
      "displayName": "Đạt Phi Quang",
      "userId": "12812422041134669589"
     },
     "user_tz": -420
    },
    "id": "Ty0Os4XHhD9s"
   },
   "outputs": [],
   "source": [
    "features_train, labels_train, features_test, labels_test = ReadData(path_data)"
   ]
  },
  {
   "cell_type": "code",
   "execution_count": 179,
   "metadata": {
    "colab": {
     "base_uri": "https://localhost:8080/"
    },
    "executionInfo": {
     "elapsed": 14,
     "status": "ok",
     "timestamp": 1680683829336,
     "user": {
      "displayName": "Đạt Phi Quang",
      "userId": "12812422041134669589"
     },
     "user_tz": -420
    },
    "id": "JEYDXGx3gKUr",
    "outputId": "2e7d1d59-acfb-4f62-b49c-18341e3580e3"
   },
   "outputs": [
    {
     "data": {
      "text/plain": [
       "0.5"
      ]
     },
     "execution_count": 179,
     "metadata": {},
     "output_type": "execute_result"
    }
   ],
   "source": [
    "from sklearn.linear_model import LogisticRegression\n",
    "clf = LogisticRegression(random_state=0).fit(features_train, labels_train)\n",
    "clf.score(features_test, labels_test)"
   ]
  },
  {
   "cell_type": "code",
   "execution_count": 180,
   "metadata": {
    "colab": {
     "base_uri": "https://localhost:8080/"
    },
    "executionInfo": {
     "elapsed": 10,
     "status": "ok",
     "timestamp": 1680683829337,
     "user": {
      "displayName": "Đạt Phi Quang",
      "userId": "12812422041134669589"
     },
     "user_tz": -420
    },
    "id": "w1n52CZSjs4n",
    "outputId": "12f5b3b5-ff17-42ac-c04a-953e42d21ea2"
   },
   "outputs": [
    {
     "name": "stdout",
     "output_type": "stream",
     "text": [
      "1 : 0.5\n",
      "2 : 0.5833333333333334\n",
      "3 : 0.6666666666666666\n",
      "4 : 0.5833333333333334\n",
      "5 : 0.5833333333333334\n",
      "6 : 0.4166666666666667\n",
      "7 : 0.4166666666666667\n",
      "8 : 0.5\n",
      "9 : 0.4166666666666667\n"
     ]
    }
   ],
   "source": [
    "from sklearn.neighbors import KNeighborsClassifier\n",
    "for i in range(1,10):\n",
    "  model = KNeighborsClassifier(n_neighbors = i)\n",
    "  model.fit(features_train, labels_train)\n",
    "  acc = model.score(features_test, labels_test)\n",
    "  print(i, \":\",acc)"
   ]
  },
  {
   "cell_type": "code",
   "execution_count": 181,
   "metadata": {
    "executionInfo": {
     "elapsed": 1254,
     "status": "ok",
     "timestamp": 1680683830586,
     "user": {
      "displayName": "Đạt Phi Quang",
      "userId": "12812422041134669589"
     },
     "user_tz": -420
    },
    "id": "FeIZLUldb9EU"
   },
   "outputs": [],
   "source": [
    "features_train, labels_train, features_test, labels_test= ReadData(path_data, 1)"
   ]
  },
  {
   "cell_type": "code",
   "execution_count": 182,
   "metadata": {
    "colab": {
     "base_uri": "https://localhost:8080/"
    },
    "executionInfo": {
     "elapsed": 6,
     "status": "ok",
     "timestamp": 1680683830587,
     "user": {
      "displayName": "Đạt Phi Quang",
      "userId": "12812422041134669589"
     },
     "user_tz": -420
    },
    "id": "C8MC5zkUgAqG",
    "outputId": "8f49cc87-89e2-49e9-e7e4-4496d09fb822"
   },
   "outputs": [
    {
     "data": {
      "text/plain": [
       "0.75"
      ]
     },
     "execution_count": 182,
     "metadata": {},
     "output_type": "execute_result"
    }
   ],
   "source": [
    "clf = LogisticRegression(random_state=0).fit(features_train, labels_train)\n",
    "clf.score(features_test, labels_test)"
   ]
  },
  {
   "cell_type": "code",
   "execution_count": 183,
   "metadata": {
    "colab": {
     "base_uri": "https://localhost:8080/"
    },
    "executionInfo": {
     "elapsed": 5,
     "status": "ok",
     "timestamp": 1680683830587,
     "user": {
      "displayName": "Đạt Phi Quang",
      "userId": "12812422041134669589"
     },
     "user_tz": -420
    },
    "id": "CrL7fQMSjNsO",
    "outputId": "f76ea86a-5dd0-46d8-e6da-dbe1b05f3132"
   },
   "outputs": [
    {
     "name": "stdout",
     "output_type": "stream",
     "text": [
      "1 : 0.9166666666666666\n",
      "2 : 0.9166666666666666\n",
      "3 : 0.8333333333333334\n",
      "4 : 0.8333333333333334\n",
      "5 : 0.8333333333333334\n",
      "6 : 0.8333333333333334\n",
      "7 : 0.8333333333333334\n",
      "8 : 0.8333333333333334\n",
      "9 : 0.8333333333333334\n"
     ]
    }
   ],
   "source": [
    "from sklearn.neighbors import KNeighborsClassifier\n",
    "for i in range(1,10):\n",
    "  model = KNeighborsClassifier(n_neighbors = i)\n",
    "  model.fit(features_train, labels_train)\n",
    "  acc = model.score(features_test, labels_test)\n",
    "  print(i,\":\",acc)"
   ]
  }
 ],
 "metadata": {
  "colab": {
   "authorship_tag": "ABX9TyMOX99hxGyzvSM/D4h/eVxH",
   "provenance": []
  },
  "kernelspec": {
   "display_name": "Python 3",
   "name": "python3"
  },
  "language_info": {
   "name": "python"
  }
 },
 "nbformat": 4,
 "nbformat_minor": 0
}
