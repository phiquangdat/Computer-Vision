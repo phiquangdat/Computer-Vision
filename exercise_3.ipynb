{
 "cells": [
  {
   "cell_type": "markdown",
   "metadata": {
    "id": "01ljva9pTjJY"
   },
   "source": [
    "#Task: Classify images of dogs and cats\n"
   ]
  },
  {
   "cell_type": "code",
   "execution_count": 2,
   "metadata": {
    "colab": {
     "base_uri": "https://localhost:8080/"
    },
    "executionInfo": {
     "elapsed": 18772,
     "status": "ok",
     "timestamp": 1680075830598,
     "user": {
      "displayName": "Đạt Phi Quang",
      "userId": "12812422041134669589"
     },
     "user_tz": -420
    },
    "id": "_V_1KfVJUmVS",
    "outputId": "a0258032-188f-4833-f11a-9d5045bae486"
   },
   "outputs": [
    {
     "name": "stdout",
     "output_type": "stream",
     "text": [
      "Drive already mounted at /content/drive; to attempt to forcibly remount, call drive.mount(\"/content/drive\", force_remount=True).\n"
     ]
    }
   ],
   "source": [
    "from google.colab import drive\n",
    "drive.mount('/content/drive')"
   ]
  },
  {
   "cell_type": "code",
   "execution_count": 29,
   "metadata": {
    "executionInfo": {
     "elapsed": 451,
     "status": "ok",
     "timestamp": 1680077114357,
     "user": {
      "displayName": "Đạt Phi Quang",
      "userId": "12812422041134669589"
     },
     "user_tz": -420
    },
    "id": "LYCwuBF2U9al"
   },
   "outputs": [],
   "source": [
    "import os\n",
    "import cv2 as cv\n",
    "from google.colab.patches import cv2_imshow\n",
    "import numpy as np\n",
    "from numpy.linalg import norm\n",
    "from scipy.spatial import distance\n",
    "from scipy import ndimage, spatial\n",
    "from sklearn.neighbors import KNeighborsClassifier\n",
    "from PIL import Image\n"
   ]
  },
  {
   "cell_type": "code",
   "execution_count": null,
   "metadata": {
    "id": "htzZ-zboTrEd"
   },
   "outputs": [],
   "source": [
    "def TinhHist(pathfilename):\n",
    "  img = cv.imread(pathfilename,0) \n",
    "  hist = cv.calcHist([img],[0],None,[256],[0,256])\n",
    "  size = img.shape[0]*img.shape[1]\n",
    "  hist = hist / size \n",
    "  return hist"
   ]
  },
  {
   "cell_type": "code",
   "execution_count": 8,
   "metadata": {
    "executionInfo": {
     "elapsed": 471,
     "status": "ok",
     "timestamp": 1680076154793,
     "user": {
      "displayName": "Đạt Phi Quang",
      "userId": "12812422041134669589"
     },
     "user_tz": -420
    },
    "id": "a5eHtsQHUK-b"
   },
   "outputs": [],
   "source": [
    "dir_monhoc = '/content/drive/MyDrive/CS231.N22.KHCL/Baitap/Baitap3/Dataset/dogscats_small'\n",
    "dir_train = os.path.join(dir_monhoc, \"train\")\n",
    "dir_test = os.path.join(dir_monhoc, \"test\") "
   ]
  },
  {
   "cell_type": "code",
   "execution_count": 61,
   "metadata": {
    "executionInfo": {
     "elapsed": 486,
     "status": "ok",
     "timestamp": 1680078155223,
     "user": {
      "displayName": "Đạt Phi Quang",
      "userId": "12812422041134669589"
     },
     "user_tz": -420
    },
    "id": "EhjAA5RQUKFs"
   },
   "outputs": [],
   "source": [
    "def ReadData(path_to_files):\n",
    "  features = []\n",
    "  labels = []\n",
    "  for file_name in os.listdir(path_to_files):\n",
    "    label = file_name.split('.')[0]\n",
    "    labels.append(label)\n",
    "    features.append(TinhHist(path_to_files + '/' + file_name).reshape(-1))\n",
    "\n",
    "  features = np.array(features)\n",
    "  labels = np.array(labels)\n",
    "  return features, labels"
   ]
  },
  {
   "cell_type": "code",
   "execution_count": 62,
   "metadata": {
    "executionInfo": {
     "elapsed": 688,
     "status": "ok",
     "timestamp": 1680078157545,
     "user": {
      "displayName": "Đạt Phi Quang",
      "userId": "12812422041134669589"
     },
     "user_tz": -420
    },
    "id": "AB_nxzsxW1Nv"
   },
   "outputs": [],
   "source": [
    "X_train, y_train = ReadData(dir_train)\n",
    "X_test, y_test = ReadData(dir_test)\n",
    "     "
   ]
  },
  {
   "cell_type": "code",
   "execution_count": 63,
   "metadata": {
    "executionInfo": {
     "elapsed": 5,
     "status": "ok",
     "timestamp": 1680078159056,
     "user": {
      "displayName": "Đạt Phi Quang",
      "userId": "12812422041134669589"
     },
     "user_tz": -420
    },
    "id": "yCJrVQkxZBlW"
   },
   "outputs": [],
   "source": [
    "model = KNeighborsClassifier(n_neighbors=5)\n",
    "model.fit(X_train, y_train)\n",
    "acc_train = model.score(X_train, y_train)\n",
    "acc_test = model.score(X_test, y_test)"
   ]
  },
  {
   "cell_type": "code",
   "execution_count": 64,
   "metadata": {
    "colab": {
     "base_uri": "https://localhost:8080/"
    },
    "executionInfo": {
     "elapsed": 328,
     "status": "ok",
     "timestamp": 1680078168994,
     "user": {
      "displayName": "Đạt Phi Quang",
      "userId": "12812422041134669589"
     },
     "user_tz": -420
    },
    "id": "mBqY8cDMdke0",
    "outputId": "7a0a129f-fba4-4f15-8a80-f6d21024f67c"
   },
   "outputs": [
    {
     "name": "stdout",
     "output_type": "stream",
     "text": [
      "k neighbors =  1 :  0.55\n",
      "k neighbors =  2 :  0.55\n",
      "k neighbors =  3 :  0.45\n",
      "k neighbors =  4 :  0.6\n",
      "k neighbors =  5 :  0.6\n"
     ]
    }
   ],
   "source": [
    "Acc = []\n",
    "for k in range(5):\n",
    "  model = KNeighborsClassifier(n_neighbors=k+1)\n",
    "  model.fit(X_train, y_train)\n",
    "  acc = model.score(X_test, y_test)\n",
    "  Acc.append(acc)\n",
    "  print('k neighbors = ', k+1, ': ', Acc[k]) "
   ]
  }
 ],
 "metadata": {
  "colab": {
   "authorship_tag": "ABX9TyPjOPSLcG6cpN8uTtneComF",
   "provenance": []
  },
  "kernelspec": {
   "display_name": "Python 3",
   "name": "python3"
  },
  "language_info": {
   "name": "python"
  }
 },
 "nbformat": 4,
 "nbformat_minor": 0
}
